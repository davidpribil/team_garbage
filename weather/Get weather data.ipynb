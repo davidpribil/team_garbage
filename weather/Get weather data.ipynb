{
 "cells": [
  {
   "cell_type": "markdown",
   "metadata": {},
   "source": [
    "## Query for the weather data for a day and hour in a given region"
   ]
  },
  {
   "cell_type": "code",
   "execution_count": 1,
   "metadata": {},
   "outputs": [],
   "source": [
    "import argparse\n",
    "import datetime as dt\n",
    "import sys\n",
    "\n",
    "import meteomatics.api as api"
   ]
  },
  {
   "cell_type": "code",
   "execution_count": 2,
   "metadata": {},
   "outputs": [],
   "source": [
    "###Credentials:\n",
    "username = 'hackz_bucher_3'\n",
    "password = 'GbIj6UqbTi5C'"
   ]
  },
  {
   "cell_type": "code",
   "execution_count": 3,
   "metadata": {},
   "outputs": [],
   "source": [
    "# startdate_station_ts = dt.datetime.utcnow().replace(hour=0, minute=0, second=0, microsecond=0)-dt.timedelta(days=0)\n",
    "# enddate_station_ts = startdate_station_ts + dt.timedelta(days=2)\n",
    "# interval_station_ts = dt.timedelta(hours=1)"
   ]
  },
  {
   "cell_type": "code",
   "execution_count": 5,
   "metadata": {},
   "outputs": [],
   "source": [
    "startdate_station_ts = dt.datetime(2019,4,1,0,0) # 1 April\n",
    "# enddate_station_ts = dt.datetime(2019,4,10,0,0) # 26 Sept\n",
    "enddate_station_ts = dt.datetime(2019,9,26,0,0) # 26 Sept\n",
    "interval_station_ts = dt.timedelta(hours=1)"
   ]
  },
  {
   "cell_type": "markdown",
   "metadata": {},
   "source": [
    "#### Human Thermal comfort factors\n",
    "\n",
    "- Temperature: 2 metres above ground in Celcius 't_2m:C'\n",
    "- Relative humidity: 2 metres above ground in pascals 'relative_humidity_2m:p' --> NA\n",
    "- Median Radiant temperature --> NA\n",
    "- Wind speed: 10 metres above ground in meter per sec 'wind_speed_10m:ms'\n",
    "\n",
    "#### Possibility of rain\n",
    "- Precipiation: In millimeters that has fallen in one hour 'precip_1h:mm'\n",
    "- Cloud cover: effective Cloud cover in Octas 'effective_cloud_cover:octas' --> NA\n",
    "- Thunderstorm probability: Probability of thunderstorm for the next 24 hours 'prob_tstorm_24h' --> NA"
   ]
  },
  {
   "cell_type": "code",
   "execution_count": 21,
   "metadata": {},
   "outputs": [],
   "source": [
    "parameters_station_ts = ['t_2m:C', 'wind_speed_10m:ms', 'precip_1h:mm']#,'relative_humidity_2m:p','effective_cloud_cover:octas', 'prob_tstorm_24h'"
   ]
  },
  {
   "cell_type": "code",
   "execution_count": 22,
   "metadata": {},
   "outputs": [],
   "source": [
    "model_station_ts = 'mix-obs' # 'mix' for prediction and 'mix-obs' for observation"
   ]
  },
  {
   "cell_type": "code",
   "execution_count": 23,
   "metadata": {},
   "outputs": [],
   "source": [
    "coordinates_station_ts = [(47.532477, 7.601737973795679)] # Coordinates of Basel"
   ]
  },
  {
   "cell_type": "code",
   "execution_count": 24,
   "metadata": {},
   "outputs": [
    {
     "name": "stdout",
     "output_type": "stream",
     "text": [
      "station coordinates timeseries:\n",
      "2019-09-28 04:09:20| INFO |Calling URL: https://api.meteomatics.com/2019-04-01T00:00:00+00:00--2019-09-26T00:00:00+00:00:PT1H (username = hackz_bucher_3)\n",
      "                                                       t_2m:C  \\\n",
      "station_id                  validdate                           \n",
      "47.532477,7.601737973795679 2019-04-01 00:00:00+00:00     8.0   \n",
      "                            2019-04-01 01:00:00+00:00     7.0   \n",
      "                            2019-04-01 02:00:00+00:00     6.3   \n",
      "                            2019-04-01 03:00:00+00:00     5.1   \n",
      "                            2019-04-01 04:00:00+00:00     4.8   \n",
      "\n",
      "                                                       wind_speed_10m:ms  \\\n",
      "station_id                  validdate                                      \n",
      "47.532477,7.601737973795679 2019-04-01 00:00:00+00:00                1.5   \n",
      "                            2019-04-01 01:00:00+00:00                2.4   \n",
      "                            2019-04-01 02:00:00+00:00                1.8   \n",
      "                            2019-04-01 03:00:00+00:00                2.1   \n",
      "                            2019-04-01 04:00:00+00:00                2.0   \n",
      "\n",
      "                                                       precip_1h:mm  \n",
      "station_id                  validdate                                \n",
      "47.532477,7.601737973795679 2019-04-01 00:00:00+00:00           0.0  \n",
      "                            2019-04-01 01:00:00+00:00           0.0  \n",
      "                            2019-04-01 02:00:00+00:00           0.0  \n",
      "                            2019-04-01 03:00:00+00:00           0.0  \n",
      "                            2019-04-01 04:00:00+00:00           0.0  \n"
     ]
    },
    {
     "name": "stderr",
     "output_type": "stream",
     "text": [
      "/media/mayur/4849a1fc-787d-4ad7-83d7-cf186eda025b/mayur/anaconda3/envs/hack-zur-2019/lib/python3.7/site-packages/meteomatics/api.py:195: FutureWarning: from_items is deprecated. Please use DataFrame.from_dict(dict(items), ...) instead. DataFrame.from_dict(OrderedDict(items)) may be used to preserve the key order.\n",
      "  df = pd.DataFrame.from_items(dict_data.items(), orient=\"index\", columns=parameters_ts)\n"
     ]
    }
   ],
   "source": [
    "print(\"station coordinates timeseries:\")\n",
    "try:\n",
    "    df_sd_coord = api.query_station_timeseries(startdate_station_ts, enddate_station_ts, interval_station_ts,\n",
    "                                               parameters_station_ts, username, password, model=model_station_ts,\n",
    "                                               latlon_tuple_list=coordinates_station_ts, on_invalid='fill_with_invalid',\n",
    "                                               request_type=\"POST\", temporal_interpolation='none')\n",
    "    print(df_sd_coord.head())\n",
    "except Exception as e:\n",
    "    print(\"Failed, the exception is {}\".format(e))"
   ]
  },
  {
   "cell_type": "code",
   "execution_count": 25,
   "metadata": {},
   "outputs": [],
   "source": [
    "maximum_temperature = df_sd_coord['t_2m:C'].max()\n",
    "# minimum_windspeed = df_sd_coord['wind_speed_10m:ms'].min()\n",
    "mean_temperature = df_sd_coord['t_2m:C'].mean()\n",
    "just_precipitation = df_sd_coord['precip_1h:mm']\n",
    "first_value_of_precipitation = df_sd_coord.iloc[0]['precip_1h:mm']\n",
    "just_at_12UTC = df_sd_coord[df_sd_coord.index.get_level_values('validdate').hour == 12]"
   ]
  },
  {
   "cell_type": "code",
   "execution_count": 26,
   "metadata": {},
   "outputs": [
    {
     "data": {
      "text/html": [
       "<div>\n",
       "<style scoped>\n",
       "    .dataframe tbody tr th:only-of-type {\n",
       "        vertical-align: middle;\n",
       "    }\n",
       "\n",
       "    .dataframe tbody tr th {\n",
       "        vertical-align: top;\n",
       "    }\n",
       "\n",
       "    .dataframe thead th {\n",
       "        text-align: right;\n",
       "    }\n",
       "</style>\n",
       "<table border=\"1\" class=\"dataframe\">\n",
       "  <thead>\n",
       "    <tr style=\"text-align: right;\">\n",
       "      <th></th>\n",
       "      <th></th>\n",
       "      <th>t_2m:C</th>\n",
       "      <th>wind_speed_10m:ms</th>\n",
       "      <th>precip_1h:mm</th>\n",
       "    </tr>\n",
       "    <tr>\n",
       "      <th>station_id</th>\n",
       "      <th>validdate</th>\n",
       "      <th></th>\n",
       "      <th></th>\n",
       "      <th></th>\n",
       "    </tr>\n",
       "  </thead>\n",
       "  <tbody>\n",
       "    <tr>\n",
       "      <th rowspan=\"5\" valign=\"top\">47.532477,7.601737973795679</th>\n",
       "      <th>2019-04-01 00:00:00+00:00</th>\n",
       "      <td>8.0</td>\n",
       "      <td>1.5</td>\n",
       "      <td>0.0</td>\n",
       "    </tr>\n",
       "    <tr>\n",
       "      <th>2019-04-01 01:00:00+00:00</th>\n",
       "      <td>7.0</td>\n",
       "      <td>2.4</td>\n",
       "      <td>0.0</td>\n",
       "    </tr>\n",
       "    <tr>\n",
       "      <th>2019-04-01 02:00:00+00:00</th>\n",
       "      <td>6.3</td>\n",
       "      <td>1.8</td>\n",
       "      <td>0.0</td>\n",
       "    </tr>\n",
       "    <tr>\n",
       "      <th>2019-04-01 03:00:00+00:00</th>\n",
       "      <td>5.1</td>\n",
       "      <td>2.1</td>\n",
       "      <td>0.0</td>\n",
       "    </tr>\n",
       "    <tr>\n",
       "      <th>2019-04-01 04:00:00+00:00</th>\n",
       "      <td>4.8</td>\n",
       "      <td>2.0</td>\n",
       "      <td>0.0</td>\n",
       "    </tr>\n",
       "  </tbody>\n",
       "</table>\n",
       "</div>"
      ],
      "text/plain": [
       "                                                       t_2m:C  \\\n",
       "station_id                  validdate                           \n",
       "47.532477,7.601737973795679 2019-04-01 00:00:00+00:00     8.0   \n",
       "                            2019-04-01 01:00:00+00:00     7.0   \n",
       "                            2019-04-01 02:00:00+00:00     6.3   \n",
       "                            2019-04-01 03:00:00+00:00     5.1   \n",
       "                            2019-04-01 04:00:00+00:00     4.8   \n",
       "\n",
       "                                                       wind_speed_10m:ms  \\\n",
       "station_id                  validdate                                      \n",
       "47.532477,7.601737973795679 2019-04-01 00:00:00+00:00                1.5   \n",
       "                            2019-04-01 01:00:00+00:00                2.4   \n",
       "                            2019-04-01 02:00:00+00:00                1.8   \n",
       "                            2019-04-01 03:00:00+00:00                2.1   \n",
       "                            2019-04-01 04:00:00+00:00                2.0   \n",
       "\n",
       "                                                       precip_1h:mm  \n",
       "station_id                  validdate                                \n",
       "47.532477,7.601737973795679 2019-04-01 00:00:00+00:00           0.0  \n",
       "                            2019-04-01 01:00:00+00:00           0.0  \n",
       "                            2019-04-01 02:00:00+00:00           0.0  \n",
       "                            2019-04-01 03:00:00+00:00           0.0  \n",
       "                            2019-04-01 04:00:00+00:00           0.0  "
      ]
     },
     "execution_count": 26,
     "metadata": {},
     "output_type": "execute_result"
    }
   ],
   "source": [
    "df_sd_coord[]"
   ]
  },
  {
   "cell_type": "code",
   "execution_count": 27,
   "metadata": {},
   "outputs": [],
   "source": [
    "export_csv = df_sd_coord.to_csv (r'./weather_data.csv', index = True, header=True) #Don't forget to add '.csv' at the end of the path"
   ]
  },
  {
   "cell_type": "code",
   "execution_count": null,
   "metadata": {},
   "outputs": [],
   "source": []
  }
 ],
 "metadata": {
  "kernelspec": {
   "display_name": "Python 3",
   "language": "python",
   "name": "python3"
  },
  "language_info": {
   "codemirror_mode": {
    "name": "ipython",
    "version": 3
   },
   "file_extension": ".py",
   "mimetype": "text/x-python",
   "name": "python",
   "nbconvert_exporter": "python",
   "pygments_lexer": "ipython3",
   "version": "3.7.3"
  }
 },
 "nbformat": 4,
 "nbformat_minor": 2
}

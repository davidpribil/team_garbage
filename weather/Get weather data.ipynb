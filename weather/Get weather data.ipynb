{
 "cells": [
  {
   "cell_type": "markdown",
   "metadata": {},
   "source": [
    "## Query for the weather data for a day and hour in a given region"
   ]
  },
  {
   "cell_type": "code",
   "execution_count": 11,
   "metadata": {},
   "outputs": [],
   "source": [
    "import argparse\n",
    "import datetime as dt\n",
    "import sys\n",
    "\n",
    "import meteomatics.api as api"
   ]
  },
  {
   "cell_type": "code",
   "execution_count": 12,
   "metadata": {},
   "outputs": [],
   "source": [
    "###Credentials:\n",
    "username = 'hackz_bucher_3'\n",
    "password = 'GbIj6UqbTi5C'"
   ]
  },
  {
   "cell_type": "code",
   "execution_count": 13,
   "metadata": {},
   "outputs": [],
   "source": [
    "# startdate_station_ts = dt.datetime.utcnow().replace(hour=0, minute=0, second=0, microsecond=0)-dt.timedelta(days=0)\n",
    "# enddate_station_ts = startdate_station_ts + dt.timedelta(days=2)\n",
    "# interval_station_ts = dt.timedelta(hours=1)"
   ]
  },
  {
   "cell_type": "code",
   "execution_count": 14,
   "metadata": {},
   "outputs": [],
   "source": [
    "startdate_station_ts = dt.datetime(2019,4,1,0,0) # 1 April\n",
    "# enddate_station_ts = dt.datetime(2019,4,10,0,0) # 26 Sept\n",
    "enddate_station_ts = dt.datetime(2019,9,26,0,0) # 26 Sept\n",
    "interval_station_ts = dt.timedelta(hours=1)"
   ]
  },
  {
   "cell_type": "markdown",
   "metadata": {},
   "source": [
    "#### Human Thermal comfort factors\n",
    "\n",
    "- Temperature: 2 metres above ground in Celcius 't_2m:C'\n",
    "- Relative humidity: 2 metres above ground in pascals 'relative_humidity_2m:p' --> NA\n",
    "- Median Radiant temperature --> NA\n",
    "- Wind speed: 10 metres above ground in meter per sec 'wind_speed_10m:ms'\n",
    "\n",
    "#### Possibility of rain\n",
    "- Precipiation: In millimeters that has fallen in one hour 'precip_1h:mm'\n",
    "- Cloud cover: effective Cloud cover in Octas 'effective_cloud_cover:octas' --> NA\n",
    "- Thunderstorm probability: Probability of thunderstorm for the next 24 hours 'prob_tstorm_24h' --> NA"
   ]
  },
  {
   "cell_type": "code",
   "execution_count": 15,
   "metadata": {},
   "outputs": [],
   "source": [
    "parameters_station_ts = ['t_2m:C', 'wind_speed_10m:ms', 'precip_1h:mm']#,'relative_humidity_2m:p','effective_cloud_cover:octas', 'prob_tstorm_24h'"
   ]
  },
  {
   "cell_type": "code",
   "execution_count": 16,
   "metadata": {},
   "outputs": [],
   "source": [
    "model_station_ts = 'mix-obs' # 'mix' for prediction and 'mix-obs' for observation"
   ]
  },
  {
   "cell_type": "code",
   "execution_count": 17,
   "metadata": {},
   "outputs": [],
   "source": [
    "coordinates_station_ts = [(47.532477, 7.601737973795679)] # Coordinates of Basel"
   ]
  },
  {
   "cell_type": "code",
   "execution_count": 18,
   "metadata": {},
   "outputs": [
    {
     "name": "stdout",
     "output_type": "stream",
     "text": [
      "station coordinates timeseries:\n",
      "2019-09-28 12:07:10| INFO |Calling URL: https://api.meteomatics.com/2019-04-01T00:00:00+00:00--2019-09-26T00:00:00+00:00:PT1H (username = hackz_bucher_3)\n",
      "                                                       t_2m:C  \\\n",
      "station_id                  validdate                           \n",
      "47.532477,7.601737973795679 2019-04-01 00:00:00+00:00     8.0   \n",
      "                            2019-04-01 01:00:00+00:00     7.0   \n",
      "                            2019-04-01 02:00:00+00:00     6.3   \n",
      "                            2019-04-01 03:00:00+00:00     5.1   \n",
      "                            2019-04-01 04:00:00+00:00     4.8   \n",
      "\n",
      "                                                       wind_speed_10m:ms  \\\n",
      "station_id                  validdate                                      \n",
      "47.532477,7.601737973795679 2019-04-01 00:00:00+00:00                1.5   \n",
      "                            2019-04-01 01:00:00+00:00                2.4   \n",
      "                            2019-04-01 02:00:00+00:00                1.8   \n",
      "                            2019-04-01 03:00:00+00:00                2.1   \n",
      "                            2019-04-01 04:00:00+00:00                2.0   \n",
      "\n",
      "                                                       precip_1h:mm  \n",
      "station_id                  validdate                                \n",
      "47.532477,7.601737973795679 2019-04-01 00:00:00+00:00           0.0  \n",
      "                            2019-04-01 01:00:00+00:00           0.0  \n",
      "                            2019-04-01 02:00:00+00:00           0.0  \n",
      "                            2019-04-01 03:00:00+00:00           0.0  \n",
      "                            2019-04-01 04:00:00+00:00           0.0  \n"
     ]
    }
   ],
   "source": [
    "print(\"station coordinates timeseries:\")\n",
    "try:\n",
    "    df_sd_coord = api.query_station_timeseries(startdate_station_ts, enddate_station_ts, interval_station_ts,\n",
    "                                               parameters_station_ts, username, password, model=model_station_ts,\n",
    "                                               latlon_tuple_list=coordinates_station_ts, on_invalid='fill_with_invalid',\n",
    "                                               request_type=\"POST\", temporal_interpolation='none')\n",
    "    print(df_sd_coord.head())\n",
    "except Exception as e:\n",
    "    print(\"Failed, the exception is {}\".format(e))"
   ]
  },
  {
   "cell_type": "code",
   "execution_count": 19,
   "metadata": {},
   "outputs": [],
   "source": [
    "maximum_temperature = df_sd_coord['t_2m:C'].max()\n",
    "# minimum_windspeed = df_sd_coord['wind_speed_10m:ms'].min()\n",
    "mean_temperature = df_sd_coord['t_2m:C'].mean()\n",
    "just_precipitation = df_sd_coord['precip_1h:mm']\n",
    "first_value_of_precipitation = df_sd_coord.iloc[0]['precip_1h:mm']\n",
    "just_at_12UTC = df_sd_coord[df_sd_coord.index.get_level_values('validdate').hour == 12]"
   ]
  },
  {
   "cell_type": "code",
   "execution_count": 27,
   "metadata": {},
   "outputs": [
    {
     "data": {
      "text/plain": [
       "station_id                   validdate                \n",
       "47.532477,7.601737973795679  2019-04-01 00:00:00+00:00     8.0\n",
       "                             2019-04-01 01:00:00+00:00     7.0\n",
       "                             2019-04-01 02:00:00+00:00     6.3\n",
       "                             2019-04-01 03:00:00+00:00     5.1\n",
       "                             2019-04-01 04:00:00+00:00     4.8\n",
       "                             2019-04-01 05:00:00+00:00     4.3\n",
       "                             2019-04-01 06:00:00+00:00     4.5\n",
       "                             2019-04-01 07:00:00+00:00     7.0\n",
       "                             2019-04-01 08:00:00+00:00     8.3\n",
       "                             2019-04-01 09:00:00+00:00    10.4\n",
       "                             2019-04-01 10:00:00+00:00    12.1\n",
       "                             2019-04-01 11:00:00+00:00    12.9\n",
       "                             2019-04-01 12:00:00+00:00    15.4\n",
       "                             2019-04-01 13:00:00+00:00    16.2\n",
       "                             2019-04-01 14:00:00+00:00    17.0\n",
       "                             2019-04-01 15:00:00+00:00    17.4\n",
       "                             2019-04-01 16:00:00+00:00    17.8\n",
       "                             2019-04-01 17:00:00+00:00    16.7\n",
       "                             2019-04-01 18:00:00+00:00    16.1\n",
       "                             2019-04-01 19:00:00+00:00    13.4\n",
       "                             2019-04-01 20:00:00+00:00    11.0\n",
       "                             2019-04-01 21:00:00+00:00     8.6\n",
       "                             2019-04-01 22:00:00+00:00     9.6\n",
       "                             2019-04-01 23:00:00+00:00     8.1\n",
       "Name: t_2m:C, dtype: float64"
      ]
     },
     "execution_count": 27,
     "metadata": {},
     "output_type": "execute_result"
    }
   ],
   "source": [
    "df_sd_coord[0:24]['t_2m:C']"
   ]
  },
  {
   "cell_type": "code",
   "execution_count": 27,
   "metadata": {},
   "outputs": [],
   "source": [
    "export_csv = df_sd_coord.to_csv (r'./weather_data.csv', index = True, header=True) #Don't forget to add '.csv' at the end of the path"
   ]
  },
  {
   "cell_type": "markdown",
   "metadata": {},
   "source": [
    "## Get max,min,mean values of temp"
   ]
  },
  {
   "cell_type": "code",
   "execution_count": 111,
   "metadata": {},
   "outputs": [],
   "source": [
    "import pandas as pd\n",
    "my_csv = pd.read_csv('./weather_data.csv')"
   ]
  },
  {
   "cell_type": "code",
   "execution_count": 112,
   "metadata": {},
   "outputs": [],
   "source": [
    "output = pd.DataFrame()\n",
    "temp_dict = dict()\n",
    "for i in range(0,(df_sd_coord.shape[0]-1),24):\n",
    "    temp_dict['validdate']=dateutil.parser.parse(my_csv['validdate'][i])\n",
    "    temp_dict['mean_temp']=my_csv['t_2m:C'][i:i+24].mean()\n",
    "    temp_dict['max_temp']=my_csv['t_2m:C'][i:i+24].max()\n",
    "    temp_dict['min_temp']=my_csv['t_2m:C'][i:i+24].min()\n",
    "    temp_dict['total_prep']=my_csv['precip_1h:mm'][i:i+24].sum()\n",
    "    temp_dict['mean_wind_speed']=my_csv['wind_speed_10m:ms'][i:i+24].mean()\n",
    "    output = output.append(temp_dict, ignore_index=True)"
   ]
  },
  {
   "cell_type": "code",
   "execution_count": 113,
   "metadata": {},
   "outputs": [],
   "source": [
    "export_csv = output.to_csv (r'./weather_data_updated.csv', index = True, header=True) #Don't forget to add '.csv' at the end of the path"
   ]
  },
  {
   "cell_type": "code",
   "execution_count": null,
   "metadata": {},
   "outputs": [],
   "source": []
  }
 ],
 "metadata": {
  "kernelspec": {
   "display_name": "Python 3",
   "language": "python",
   "name": "python3"
  },
  "language_info": {
   "codemirror_mode": {
    "name": "ipython",
    "version": 3
   },
   "file_extension": ".py",
   "mimetype": "text/x-python",
   "name": "python",
   "nbconvert_exporter": "python",
   "pygments_lexer": "ipython3",
   "version": "3.7.3"
  }
 },
 "nbformat": 4,
 "nbformat_minor": 2
}

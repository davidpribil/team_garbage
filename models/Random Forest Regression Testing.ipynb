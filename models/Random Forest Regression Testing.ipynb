{
 "cells": [
  {
   "cell_type": "markdown",
   "metadata": {},
   "source": [
    "## Load the test data"
   ]
  },
  {
   "cell_type": "code",
   "execution_count": 18,
   "metadata": {},
   "outputs": [],
   "source": [
    "import pandas as pd\n",
    "import numpy as np\n",
    "data_f = pd.read_csv('./../data/clean_datav4.csv')"
   ]
  },
  {
   "cell_type": "code",
   "execution_count": 11,
   "metadata": {},
   "outputs": [],
   "source": [
    "## Add year,month,day and average columns\n",
    "data_f['year']=pd.DatetimeIndex(data_f['date']).year\n",
    "data_f['month']=pd.DatetimeIndex(data_f['date']).month\n",
    "data_f['day']=pd.DatetimeIndex(data_f['date']).day\n",
    "unique_group_ids = data_f['group_ids'].unique()\n",
    "for group_id in unique_group_ids:\n",
    "    temp_df = data_f[data_f['group_ids'].isin([group_id])]\n",
    "    val = temp_df['cci'].mean()\n",
    "    index_list = temp_df.index.values.tolist()\n",
    "    data_f.loc[index_list, 'average'] = val"
   ]
  },
  {
   "cell_type": "code",
   "execution_count": 17,
   "metadata": {},
   "outputs": [],
   "source": [
    "data_f.to_csv('clean_datav7.csv')"
   ]
  },
  {
   "cell_type": "code",
   "execution_count": 12,
   "metadata": {},
   "outputs": [],
   "source": [
    "features = ['mean_temp','total_prep','latitudes','longitudes','event','year','month','day','average']\n",
    "\n",
    "features_df = data_f[features].copy(deep=True)\n",
    "\n",
    "test_feature = 'cci' ## We want to predict the cci\n",
    "labels = data_f[test_feature].copy(deep=True) \n",
    "# One-hot encode the data using pandas get_dummies\n",
    "weekday = pd.get_dummies(data_f['weekday'])\n",
    "\n",
    "all_features_df = pd.concat([weekday, data_f[features].copy(deep=True)], axis=1, ignore_index=False)"
   ]
  },
  {
   "cell_type": "code",
   "execution_count": 13,
   "metadata": {},
   "outputs": [],
   "source": [
    "# Saving feature names for later use\n",
    "feature_list = list(all_features_df.columns)\n",
    "features = np.array(features)"
   ]
  },
  {
   "cell_type": "code",
   "execution_count": 22,
   "metadata": {},
   "outputs": [
    {
     "name": "stdout",
     "output_type": "stream",
     "text": [
      "[4.34304832 4.47620683 4.57909209 3.84404623 3.76211243 4.08381881\n",
      " 3.49205868 2.4813607  4.2035186  4.07192947]\n"
     ]
    }
   ],
   "source": [
    "# load the model from disk\n",
    "import pickle\n",
    "filename = 'finalized_model.sav'\n",
    "rf = pickle.load(open(filename, 'rb'))\n",
    "result = rf.predict(all_features_df[0:10])\n",
    "print(result)"
   ]
  },
  {
   "cell_type": "code",
   "execution_count": 27,
   "metadata": {},
   "outputs": [],
   "source": [
    "aa = all_features_df[0:1]"
   ]
  },
  {
   "cell_type": "code",
   "execution_count": 28,
   "metadata": {},
   "outputs": [
    {
     "data": {
      "text/plain": [
       "(1, 16)"
      ]
     },
     "execution_count": 28,
     "metadata": {},
     "output_type": "execute_result"
    }
   ],
   "source": [
    "aa.shape"
   ]
  },
  {
   "cell_type": "code",
   "execution_count": null,
   "metadata": {},
   "outputs": [],
   "source": []
  }
 ],
 "metadata": {
  "kernelspec": {
   "display_name": "Python 3",
   "language": "python",
   "name": "python3"
  },
  "language_info": {
   "codemirror_mode": {
    "name": "ipython",
    "version": 3
   },
   "file_extension": ".py",
   "mimetype": "text/x-python",
   "name": "python",
   "nbconvert_exporter": "python",
   "pygments_lexer": "ipython3",
   "version": "3.7.3"
  }
 },
 "nbformat": 4,
 "nbformat_minor": 2
}

{
 "cells": [
  {
   "cell_type": "markdown",
   "metadata": {},
   "source": [
    "## Imports"
   ]
  },
  {
   "cell_type": "code",
   "execution_count": 7,
   "metadata": {},
   "outputs": [],
   "source": [
    "import matplotlib.pyplot as plt\n",
    "import numpy as np\n",
    "from sklearn import datasets, linear_model\n",
    "from sklearn.metrics import mean_squared_error, r2_score\n",
    "import pandas as pd"
   ]
  },
  {
   "cell_type": "markdown",
   "metadata": {},
   "source": [
    "## Get the dataset"
   ]
  },
  {
   "cell_type": "code",
   "execution_count": 8,
   "metadata": {},
   "outputs": [],
   "source": [
    "data = pd.read_csv('./../data/clean_datav4.csv')"
   ]
  },
  {
   "cell_type": "markdown",
   "metadata": {},
   "source": [
    "### The different between cleaning last time in days"
   ]
  },
  {
   "cell_type": "code",
   "execution_count": 9,
   "metadata": {},
   "outputs": [],
   "source": [
    "def nearestDate(base, dates):\n",
    "    nearness = { abs(base.timestamp() - date.timestamp()) : date for date in dates }\n",
    "    return nearness[min(nearness.keys())]"
   ]
  },
  {
   "cell_type": "code",
   "execution_count": 10,
   "metadata": {},
   "outputs": [],
   "source": [
    "completed_ids = set()\n",
    "for index, row in data.iterrows():\n",
    "    my_tuple = (str(row['osm_id']),str(row['cci_id']))\n",
    "    if my_tuple not in completed_ids:\n",
    "        completed_ids.add(my_tuple)"
   ]
  },
  {
   "cell_type": "code",
   "execution_count": 11,
   "metadata": {},
   "outputs": [],
   "source": [
    "import dateutil\n",
    "list_dataframes = []\n",
    "## Iterate over the completed ids\n",
    "for completed_id in completed_ids: \n",
    "    \n",
    "    temp_df = data[data['osm_id'].astype(str).str.contains(completed_id[0])]\n",
    "    temp_temp_df = temp_df[temp_df['cci_id'].astype(str).str.contains(completed_id[1])]\n",
    "    \n",
    "    ## temp_temp_df would contain list of unique places. \n",
    "    ## Now sort these according to dates\n",
    "    \n",
    "    if not temp_temp_df.empty:\n",
    "        temp_temp = temp_temp_df.sort_values(by='date')\n",
    "        ## Change the cci value for the next date to the current date\n",
    "        # print(temp_temp.head())\n",
    "        count = 0\n",
    "        for index, row in temp_temp.iterrows():\n",
    "            if count>0:\n",
    "                data.loc[prev_index, 'cci'] = row['cci'] ## Put my current row['cci'] to previous one \n",
    "            prev_index = index\n",
    "            count+=1\n",
    "        # list_dataframes.append(temp_temp_df)"
   ]
  },
  {
   "cell_type": "code",
   "execution_count": 12,
   "metadata": {},
   "outputs": [],
   "source": [
    "data.to_csv('clean_datav4_fixed_cci.csv')"
   ]
  },
  {
   "cell_type": "code",
   "execution_count": null,
   "metadata": {},
   "outputs": [],
   "source": []
  }
 ],
 "metadata": {
  "kernelspec": {
   "display_name": "Python 3",
   "language": "python",
   "name": "python3"
  },
  "language_info": {
   "codemirror_mode": {
    "name": "ipython",
    "version": 3
   },
   "file_extension": ".py",
   "mimetype": "text/x-python",
   "name": "python",
   "nbconvert_exporter": "python",
   "pygments_lexer": "ipython3",
   "version": "3.7.3"
  }
 },
 "nbformat": 4,
 "nbformat_minor": 2
}

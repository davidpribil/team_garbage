{
 "cells": [
  {
   "cell_type": "markdown",
   "metadata": {},
   "source": [
    "## Imports"
   ]
  },
  {
   "cell_type": "code",
   "execution_count": 1,
   "metadata": {},
   "outputs": [],
   "source": [
    "import matplotlib.pyplot as plt\n",
    "import numpy as np\n",
    "from sklearn import datasets, linear_model\n",
    "from sklearn.metrics import mean_squared_error, r2_score\n",
    "import pandas as pd"
   ]
  },
  {
   "cell_type": "markdown",
   "metadata": {},
   "source": [
    "## Get the dataset"
   ]
  },
  {
   "cell_type": "code",
   "execution_count": 2,
   "metadata": {},
   "outputs": [],
   "source": [
    "data = pd.read_csv('./../data/regions_cleaned_with_diff_shifted_cci.csv')"
   ]
  },
  {
   "cell_type": "markdown",
   "metadata": {},
   "source": [
    "### The different between cleaning last time in days"
   ]
  },
  {
   "cell_type": "code",
   "execution_count": 3,
   "metadata": {},
   "outputs": [],
   "source": [
    "completed_ids = set()\n",
    "for index, row in data.iterrows():\n",
    "    my_tuple = (str(row['osm_id']),str(row['cci_id']))\n",
    "    if my_tuple not in completed_ids:\n",
    "        completed_ids.add(my_tuple)"
   ]
  },
  {
   "cell_type": "code",
   "execution_count": 20,
   "metadata": {},
   "outputs": [],
   "source": [
    "import dateutil\n",
    "list_dataframes = []\n",
    "count = 1\n",
    "## Iterate over the completed ids\n",
    "for completed_id in completed_ids: \n",
    "    \n",
    "    temp_df = data[data['osm_id'].astype(str).str.contains(completed_id[0])]\n",
    "    data_f = temp_df[temp_df['cci_id'].astype(str).str.contains(completed_id[1])]\n",
    "    \n",
    "    if not data_f.empty:\n",
    "        pass\n",
    "        # data_f = data_f.sort_values(by='date')\n",
    "    if count > 38:\n",
    "        break\n",
    "    count+=1"
   ]
  },
  {
   "cell_type": "code",
   "execution_count": 21,
   "metadata": {},
   "outputs": [
    {
     "name": "stdout",
     "output_type": "stream",
     "text": [
      "(2, 3)\n"
     ]
    }
   ],
   "source": [
    "# my_features = ['day_type','event','diff_nearest_clean','mean_temp','total_prep']\n",
    "my_features = ['day_type','mean_temp','total_prep']\n",
    "my_features_df = data_f[my_features].copy(deep=True)\n",
    "print(my_features_df.shape)\n",
    "\n",
    "test_feature = 'cci'\n",
    "test_feature_df = data_f[test_feature].copy(deep=True)"
   ]
  },
  {
   "cell_type": "code",
   "execution_count": 22,
   "metadata": {},
   "outputs": [],
   "source": [
    "combined_df = pd.concat([my_features_df, test_feature_df], axis=1, ignore_index=False)\n",
    "# combined_df.tail()"
   ]
  },
  {
   "cell_type": "code",
   "execution_count": 23,
   "metadata": {},
   "outputs": [],
   "source": [
    "combined_df = combined_df.fillna(7.0).copy()"
   ]
  },
  {
   "cell_type": "code",
   "execution_count": 24,
   "metadata": {},
   "outputs": [],
   "source": [
    "from sklearn.model_selection import train_test_split\n",
    "from sklearn import preprocessing\n",
    "\n",
    "train_data, test_data = train_test_split(combined_df, test_size=0.1)"
   ]
  },
  {
   "cell_type": "code",
   "execution_count": 17,
   "metadata": {},
   "outputs": [],
   "source": [
    "train_X = train_data[my_features]\n",
    "# train_X = preprocessing.scale(train_X)\n",
    "train_X = preprocessing.MinMaxScaler().fit_transform(train_X)\n",
    "\n",
    "train_Y = train_data[test_feature]\n",
    "\n",
    "test_X = test_data[my_features]\n",
    "# test_X = preprocessing.scale(test_X)\n",
    "test_X = preprocessing.MinMaxScaler().fit_transform(test_X)\n",
    "\n",
    "\n",
    "test_Y = test_data[test_feature]"
   ]
  },
  {
   "cell_type": "code",
   "execution_count": 18,
   "metadata": {},
   "outputs": [],
   "source": [
    "# Create linear regression object\n",
    "regr = linear_model.LinearRegression()\n",
    "\n",
    "# Train the model using the training sets\n",
    "regr.fit(train_X, train_Y)\n",
    "\n",
    "# Make predictions using the testing set\n",
    "test_pred = regr.predict(test_X)"
   ]
  },
  {
   "cell_type": "code",
   "execution_count": 19,
   "metadata": {},
   "outputs": [
    {
     "name": "stdout",
     "output_type": "stream",
     "text": [
      "Coefficients: \n",
      " [ 0.28175711 -0.08354065 -0.70675542]\n",
      "Mean squared error: 0.32\n",
      "Variance score: -0.87\n"
     ]
    }
   ],
   "source": [
    "# The coefficients\n",
    "print('Coefficients: \\n', regr.coef_)\n",
    "# The mean squared error\n",
    "print(\"Mean squared error: %.2f\"\n",
    "      % mean_squared_error(test_Y, test_pred))\n",
    "# Explained variance score: 1 is perfect prediction\n",
    "from sklearn.metrics import explained_variance_score\n",
    "print('Variance score: %.2f' % explained_variance_score(test_Y, test_pred))\n",
    "\n",
    "# Plot outputs\n",
    "# plt.scatter(test_data[['day_type','months']], test_data['cci'],  color='black')\n",
    "# plt.plot(test_data[['day_type','months']], test_pred, color='blue', linewidth=3)\n",
    "\n",
    "# plt.xticks(())\n",
    "# plt.yticks(())\n",
    "\n",
    "# plt.show()"
   ]
  },
  {
   "cell_type": "code",
   "execution_count": null,
   "metadata": {},
   "outputs": [],
   "source": []
  }
 ],
 "metadata": {
  "kernelspec": {
   "display_name": "Python 3",
   "language": "python",
   "name": "python3"
  },
  "language_info": {
   "codemirror_mode": {
    "name": "ipython",
    "version": 3
   },
   "file_extension": ".py",
   "mimetype": "text/x-python",
   "name": "python",
   "nbconvert_exporter": "python",
   "pygments_lexer": "ipython3",
   "version": "3.7.3"
  }
 },
 "nbformat": 4,
 "nbformat_minor": 2
}

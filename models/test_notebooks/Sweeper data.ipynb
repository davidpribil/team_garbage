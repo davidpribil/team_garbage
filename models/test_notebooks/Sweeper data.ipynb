{
 "cells": [
  {
   "cell_type": "markdown",
   "metadata": {},
   "source": [
    "## Import the sweeper data"
   ]
  },
  {
   "cell_type": "code",
   "execution_count": 6,
   "metadata": {},
   "outputs": [],
   "source": [
    "import matplotlib.pyplot as plt\n",
    "import numpy as np\n",
    "from sklearn import datasets, linear_model\n",
    "from sklearn.metrics import mean_squared_error, r2_score\n",
    "import pandas as pd"
   ]
  },
  {
   "cell_type": "code",
   "execution_count": 7,
   "metadata": {},
   "outputs": [
    {
     "data": {
      "text/html": [
       "<div>\n",
       "<style scoped>\n",
       "    .dataframe tbody tr th:only-of-type {\n",
       "        vertical-align: middle;\n",
       "    }\n",
       "\n",
       "    .dataframe tbody tr th {\n",
       "        vertical-align: top;\n",
       "    }\n",
       "\n",
       "    .dataframe thead th {\n",
       "        text-align: right;\n",
       "    }\n",
       "</style>\n",
       "<table border=\"1\" class=\"dataframe\">\n",
       "  <thead>\n",
       "    <tr style=\"text-align: right;\">\n",
       "      <th></th>\n",
       "      <th>osm_id</th>\n",
       "      <th>cci_id</th>\n",
       "      <th>date</th>\n",
       "    </tr>\n",
       "  </thead>\n",
       "  <tbody>\n",
       "    <tr>\n",
       "      <th>0</th>\n",
       "      <td>983964215</td>\n",
       "      <td>251</td>\n",
       "      <td>2019-04-23 11:46:11</td>\n",
       "    </tr>\n",
       "    <tr>\n",
       "      <th>1</th>\n",
       "      <td>983964215</td>\n",
       "      <td>251</td>\n",
       "      <td>2019-04-24 11:08:58</td>\n",
       "    </tr>\n",
       "    <tr>\n",
       "      <th>2</th>\n",
       "      <td>983964215</td>\n",
       "      <td>251</td>\n",
       "      <td>2019-04-25 7:22:24</td>\n",
       "    </tr>\n",
       "    <tr>\n",
       "      <th>3</th>\n",
       "      <td>983964215</td>\n",
       "      <td>251</td>\n",
       "      <td>2019-04-25 6:48:11</td>\n",
       "    </tr>\n",
       "    <tr>\n",
       "      <th>4</th>\n",
       "      <td>983964215</td>\n",
       "      <td>251</td>\n",
       "      <td>2019-04-29 11:06:12</td>\n",
       "    </tr>\n",
       "  </tbody>\n",
       "</table>\n",
       "</div>"
      ],
      "text/plain": [
       "      osm_id cci_id                 date\n",
       "0  983964215    251  2019-04-23 11:46:11\n",
       "1  983964215    251  2019-04-24 11:08:58\n",
       "2  983964215    251   2019-04-25 7:22:24\n",
       "3  983964215    251   2019-04-25 6:48:11\n",
       "4  983964215    251  2019-04-29 11:06:12"
      ]
     },
     "execution_count": 7,
     "metadata": {},
     "output_type": "execute_result"
    }
   ],
   "source": [
    "sweeper_data = pd.read_csv('./../data/2019-09-28-basel-sweeper-routes.csv')\n",
    "sweeper_data.head()"
   ]
  },
  {
   "cell_type": "code",
   "execution_count": 8,
   "metadata": {},
   "outputs": [
    {
     "data": {
      "text/html": [
       "<div>\n",
       "<style scoped>\n",
       "    .dataframe tbody tr th:only-of-type {\n",
       "        vertical-align: middle;\n",
       "    }\n",
       "\n",
       "    .dataframe tbody tr th {\n",
       "        vertical-align: top;\n",
       "    }\n",
       "\n",
       "    .dataframe thead th {\n",
       "        text-align: right;\n",
       "    }\n",
       "</style>\n",
       "<table border=\"1\" class=\"dataframe\">\n",
       "  <thead>\n",
       "    <tr style=\"text-align: right;\">\n",
       "      <th></th>\n",
       "      <th>Unnamed: 0</th>\n",
       "      <th>collection</th>\n",
       "      <th>osm_id</th>\n",
       "      <th>cci_id</th>\n",
       "      <th>date</th>\n",
       "      <th>cci</th>\n",
       "      <th>weekday</th>\n",
       "      <th>day_type</th>\n",
       "      <th>days</th>\n",
       "      <th>months</th>\n",
       "      <th>...</th>\n",
       "      <th>geometry</th>\n",
       "      <th>latitudes</th>\n",
       "      <th>longitudes</th>\n",
       "      <th>group_ids</th>\n",
       "      <th>event</th>\n",
       "      <th>max_temp</th>\n",
       "      <th>mean_temp</th>\n",
       "      <th>mean_wind_speed</th>\n",
       "      <th>min_temp</th>\n",
       "      <th>total_prep</th>\n",
       "    </tr>\n",
       "  </thead>\n",
       "  <tbody>\n",
       "    <tr>\n",
       "      <th>0</th>\n",
       "      <td>0</td>\n",
       "      <td>places</td>\n",
       "      <td>1146125838</td>\n",
       "      <td>NaN</td>\n",
       "      <td>2019-04-12 9:44:29</td>\n",
       "      <td>4.594584</td>\n",
       "      <td>4</td>\n",
       "      <td>0</td>\n",
       "      <td>12</td>\n",
       "      <td>4</td>\n",
       "      <td>...</td>\n",
       "      <td>0</td>\n",
       "      <td>47.539013</td>\n",
       "      <td>7.596727</td>\n",
       "      <td>51</td>\n",
       "      <td>1</td>\n",
       "      <td>12.4</td>\n",
       "      <td>6.387500</td>\n",
       "      <td>2.025000</td>\n",
       "      <td>1.6</td>\n",
       "      <td>0.0</td>\n",
       "    </tr>\n",
       "    <tr>\n",
       "      <th>1</th>\n",
       "      <td>1</td>\n",
       "      <td>places</td>\n",
       "      <td>1146125838</td>\n",
       "      <td>NaN</td>\n",
       "      <td>2019-04-24 9:06:34</td>\n",
       "      <td>4.510442</td>\n",
       "      <td>2</td>\n",
       "      <td>0</td>\n",
       "      <td>24</td>\n",
       "      <td>4</td>\n",
       "      <td>...</td>\n",
       "      <td>0</td>\n",
       "      <td>47.539013</td>\n",
       "      <td>7.596727</td>\n",
       "      <td>51</td>\n",
       "      <td>0</td>\n",
       "      <td>25.1</td>\n",
       "      <td>13.450000</td>\n",
       "      <td>1.987500</td>\n",
       "      <td>7.9</td>\n",
       "      <td>6.2</td>\n",
       "    </tr>\n",
       "    <tr>\n",
       "      <th>2</th>\n",
       "      <td>2</td>\n",
       "      <td>places</td>\n",
       "      <td>1146125838</td>\n",
       "      <td>NaN</td>\n",
       "      <td>2019-04-26 13:35:55</td>\n",
       "      <td>4.511460</td>\n",
       "      <td>4</td>\n",
       "      <td>0</td>\n",
       "      <td>26</td>\n",
       "      <td>4</td>\n",
       "      <td>...</td>\n",
       "      <td>0</td>\n",
       "      <td>47.539013</td>\n",
       "      <td>7.596727</td>\n",
       "      <td>51</td>\n",
       "      <td>0</td>\n",
       "      <td>13.0</td>\n",
       "      <td>9.016667</td>\n",
       "      <td>1.904167</td>\n",
       "      <td>6.7</td>\n",
       "      <td>8.7</td>\n",
       "    </tr>\n",
       "    <tr>\n",
       "      <th>3</th>\n",
       "      <td>3</td>\n",
       "      <td>places</td>\n",
       "      <td>1146125838</td>\n",
       "      <td>NaN</td>\n",
       "      <td>2019-05-14 6:55:01</td>\n",
       "      <td>3.571802</td>\n",
       "      <td>1</td>\n",
       "      <td>0</td>\n",
       "      <td>14</td>\n",
       "      <td>5</td>\n",
       "      <td>...</td>\n",
       "      <td>0</td>\n",
       "      <td>47.539013</td>\n",
       "      <td>7.596727</td>\n",
       "      <td>51</td>\n",
       "      <td>1</td>\n",
       "      <td>16.6</td>\n",
       "      <td>10.870833</td>\n",
       "      <td>3.041667</td>\n",
       "      <td>3.3</td>\n",
       "      <td>0.0</td>\n",
       "    </tr>\n",
       "    <tr>\n",
       "      <th>4</th>\n",
       "      <td>4</td>\n",
       "      <td>places</td>\n",
       "      <td>1146125838</td>\n",
       "      <td>NaN</td>\n",
       "      <td>2019-06-03 14:41:12</td>\n",
       "      <td>4.592128</td>\n",
       "      <td>0</td>\n",
       "      <td>0</td>\n",
       "      <td>3</td>\n",
       "      <td>6</td>\n",
       "      <td>...</td>\n",
       "      <td>0</td>\n",
       "      <td>47.539013</td>\n",
       "      <td>7.596727</td>\n",
       "      <td>51</td>\n",
       "      <td>1</td>\n",
       "      <td>27.9</td>\n",
       "      <td>22.179167</td>\n",
       "      <td>1.666667</td>\n",
       "      <td>16.6</td>\n",
       "      <td>0.1</td>\n",
       "    </tr>\n",
       "  </tbody>\n",
       "</table>\n",
       "<p>5 rows × 21 columns</p>\n",
       "</div>"
      ],
      "text/plain": [
       "   Unnamed: 0 collection      osm_id cci_id                 date       cci  \\\n",
       "0           0     places  1146125838    NaN   2019-04-12 9:44:29  4.594584   \n",
       "1           1     places  1146125838    NaN   2019-04-24 9:06:34  4.510442   \n",
       "2           2     places  1146125838    NaN  2019-04-26 13:35:55  4.511460   \n",
       "3           3     places  1146125838    NaN   2019-05-14 6:55:01  3.571802   \n",
       "4           4     places  1146125838    NaN  2019-06-03 14:41:12  4.592128   \n",
       "\n",
       "   weekday  day_type  days  months  ...  geometry  latitudes  longitudes  \\\n",
       "0        4         0    12       4  ...         0  47.539013    7.596727   \n",
       "1        2         0    24       4  ...         0  47.539013    7.596727   \n",
       "2        4         0    26       4  ...         0  47.539013    7.596727   \n",
       "3        1         0    14       5  ...         0  47.539013    7.596727   \n",
       "4        0         0     3       6  ...         0  47.539013    7.596727   \n",
       "\n",
       "   group_ids  event  max_temp  mean_temp  mean_wind_speed  min_temp  \\\n",
       "0         51      1      12.4   6.387500         2.025000       1.6   \n",
       "1         51      0      25.1  13.450000         1.987500       7.9   \n",
       "2         51      0      13.0   9.016667         1.904167       6.7   \n",
       "3         51      1      16.6  10.870833         3.041667       3.3   \n",
       "4         51      1      27.9  22.179167         1.666667      16.6   \n",
       "\n",
       "   total_prep  \n",
       "0         0.0  \n",
       "1         6.2  \n",
       "2         8.7  \n",
       "3         0.0  \n",
       "4         0.1  \n",
       "\n",
       "[5 rows x 21 columns]"
      ]
     },
     "execution_count": 8,
     "metadata": {},
     "output_type": "execute_result"
    }
   ],
   "source": [
    "orig_data = pd.read_csv('./../data/clean_datav4.csv')\n",
    "orig_data.head()"
   ]
  },
  {
   "cell_type": "markdown",
   "metadata": {},
   "source": [
    "## Look for the osm_id and cci_id from sweeper in the orig_data"
   ]
  },
  {
   "cell_type": "code",
   "execution_count": 13,
   "metadata": {},
   "outputs": [],
   "source": [
    "completed_ids = set()\n",
    "for index, row in sweeper_data.iterrows():\n",
    "    my_tuple = (str(row['osm_id']),str(row['cci_id']))\n",
    "    if my_tuple not in completed_ids:\n",
    "        completed_ids.add(my_tuple)"
   ]
  },
  {
   "cell_type": "code",
   "execution_count": null,
   "metadata": {},
   "outputs": [],
   "source": [
    "completed_ids"
   ]
  },
  {
   "cell_type": "code",
   "execution_count": 58,
   "metadata": {},
   "outputs": [],
   "source": [
    "list_dataframes = []\n",
    "## Iterate over the completed ids\n",
    "for completed_id in completed_ids:\n",
    "    temp_df = orig_data[orig_data['osm_id'].astype(str).str.contains(completed_id[0])]\n",
    "    \n",
    "    temp_temp_df = temp_df[temp_df['cci_id'].astype(str).str.contains(completed_id[1])]\n",
    "    if not temp_temp_df.empty:\n",
    "        # print(temp_temp_df)\n",
    "        list_dataframes.append(temp_temp_df)"
   ]
  },
  {
   "cell_type": "code",
   "execution_count": 60,
   "metadata": {},
   "outputs": [
    {
     "data": {
      "text/plain": [
       "45"
      ]
     },
     "execution_count": 60,
     "metadata": {},
     "output_type": "execute_result"
    }
   ],
   "source": [
    "len(list_dataframes)"
   ]
  },
  {
   "cell_type": "code",
   "execution_count": 62,
   "metadata": {},
   "outputs": [],
   "source": [
    "my_final_df = pd.concat(list_dataframes, ignore_index=True)"
   ]
  },
  {
   "cell_type": "code",
   "execution_count": 64,
   "metadata": {},
   "outputs": [],
   "source": [
    "my_final_df.to_csv('regions_cleaned.csv')"
   ]
  },
  {
   "cell_type": "code",
   "execution_count": null,
   "metadata": {},
   "outputs": [],
   "source": []
  }
 ],
 "metadata": {
  "kernelspec": {
   "display_name": "Python 3",
   "language": "python",
   "name": "python3"
  },
  "language_info": {
   "codemirror_mode": {
    "name": "ipython",
    "version": 3
   },
   "file_extension": ".py",
   "mimetype": "text/x-python",
   "name": "python",
   "nbconvert_exporter": "python",
   "pygments_lexer": "ipython3",
   "version": "3.7.3"
  }
 },
 "nbformat": 4,
 "nbformat_minor": 2
}

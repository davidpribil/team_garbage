{
 "cells": [
  {
   "cell_type": "markdown",
   "metadata": {},
   "source": [
    "## Imports"
   ]
  },
  {
   "cell_type": "code",
   "execution_count": 1,
   "metadata": {},
   "outputs": [],
   "source": [
    "import matplotlib.pyplot as plt\n",
    "import numpy as np\n",
    "from sklearn import datasets, linear_model\n",
    "from sklearn.metrics import mean_squared_error, r2_score\n",
    "import pandas as pd"
   ]
  },
  {
   "cell_type": "markdown",
   "metadata": {},
   "source": [
    "## Get the dataset"
   ]
  },
  {
   "cell_type": "code",
   "execution_count": 2,
   "metadata": {},
   "outputs": [
    {
     "data": {
      "text/html": [
       "<div>\n",
       "<style scoped>\n",
       "    .dataframe tbody tr th:only-of-type {\n",
       "        vertical-align: middle;\n",
       "    }\n",
       "\n",
       "    .dataframe tbody tr th {\n",
       "        vertical-align: top;\n",
       "    }\n",
       "\n",
       "    .dataframe thead th {\n",
       "        text-align: right;\n",
       "    }\n",
       "</style>\n",
       "<table border=\"1\" class=\"dataframe\">\n",
       "  <thead>\n",
       "    <tr style=\"text-align: right;\">\n",
       "      <th></th>\n",
       "      <th>osm_id</th>\n",
       "      <th>cci_id</th>\n",
       "      <th>date</th>\n",
       "    </tr>\n",
       "  </thead>\n",
       "  <tbody>\n",
       "    <tr>\n",
       "      <th>0</th>\n",
       "      <td>983964215</td>\n",
       "      <td>251</td>\n",
       "      <td>2019-04-23 11:46:11</td>\n",
       "    </tr>\n",
       "    <tr>\n",
       "      <th>1</th>\n",
       "      <td>983964215</td>\n",
       "      <td>251</td>\n",
       "      <td>2019-04-24 11:08:58</td>\n",
       "    </tr>\n",
       "    <tr>\n",
       "      <th>2</th>\n",
       "      <td>983964215</td>\n",
       "      <td>251</td>\n",
       "      <td>2019-04-25 7:22:24</td>\n",
       "    </tr>\n",
       "    <tr>\n",
       "      <th>3</th>\n",
       "      <td>983964215</td>\n",
       "      <td>251</td>\n",
       "      <td>2019-04-25 6:48:11</td>\n",
       "    </tr>\n",
       "    <tr>\n",
       "      <th>4</th>\n",
       "      <td>983964215</td>\n",
       "      <td>251</td>\n",
       "      <td>2019-04-29 11:06:12</td>\n",
       "    </tr>\n",
       "  </tbody>\n",
       "</table>\n",
       "</div>"
      ],
      "text/plain": [
       "      osm_id cci_id                 date\n",
       "0  983964215    251  2019-04-23 11:46:11\n",
       "1  983964215    251  2019-04-24 11:08:58\n",
       "2  983964215    251   2019-04-25 7:22:24\n",
       "3  983964215    251   2019-04-25 6:48:11\n",
       "4  983964215    251  2019-04-29 11:06:12"
      ]
     },
     "execution_count": 2,
     "metadata": {},
     "output_type": "execute_result"
    }
   ],
   "source": [
    "data = pd.read_csv('./../data/regions_cleaned.csv')\n",
    "sweeper_data = pd.read_csv('./../data/2019-09-28-basel-sweeper-routes.csv')\n",
    "sweeper_data.head()"
   ]
  },
  {
   "cell_type": "markdown",
   "metadata": {},
   "source": [
    "### The different between cleaning last time in days"
   ]
  },
  {
   "cell_type": "code",
   "execution_count": 3,
   "metadata": {},
   "outputs": [],
   "source": [
    "def nearestDate(base, dates):\n",
    "    nearness = { abs(base.timestamp() - date.timestamp()) : date for date in dates }\n",
    "    return nearness[min(nearness.keys())]"
   ]
  },
  {
   "cell_type": "code",
   "execution_count": 4,
   "metadata": {},
   "outputs": [],
   "source": [
    "import dateutil\n",
    "\n",
    "for index, row in sweeper_data.iterrows():\n",
    "    temp_df = data[data['osm_id'].astype(str).str.contains(str(row['osm_id']))]\n",
    "    temp_temp_df = temp_df[temp_df['cci_id'].astype(str).str.contains(str(row['cci_id']))]\n",
    "    \n",
    "    if not temp_temp_df.empty:\n",
    "        date_time_to_check = dateutil.parser.parse(row['date'])\n",
    "        # print(date_time_to_check)\n",
    "        date_time_list = []\n",
    "        for ind, date_val in temp_temp_df['date'].iteritems():\n",
    "            date_val_ = dateutil.parser.parse(date_val)\n",
    "            if date_val_>date_time_to_check: # We are only interested in checking the nearest date which came after clearning\n",
    "                date_time_list.append(date_val_)\n",
    "        \n",
    "        if date_time_list!=[]:\n",
    "            nearest_date = nearestDate(date_time_to_check, date_time_list)\n",
    "        \n",
    "            ## Difference between the two in days\n",
    "            diff_nearest_date = (nearest_date-date_time_to_check).days\n",
    "\n",
    "            rowIndex = data[data['date'].astype(str).str.contains(str(nearest_date))].index\n",
    "            data.loc[rowIndex, 'diff_nearest_clean'] = diff_nearest_date\n",
    "    "
   ]
  },
  {
   "cell_type": "code",
   "execution_count": 7,
   "metadata": {},
   "outputs": [],
   "source": [
    "data.to_csv('regions_cleaned_with_diff.csv')"
   ]
  },
  {
   "cell_type": "code",
   "execution_count": null,
   "metadata": {},
   "outputs": [],
   "source": []
  }
 ],
 "metadata": {
  "kernelspec": {
   "display_name": "Python 3",
   "language": "python",
   "name": "python3"
  },
  "language_info": {
   "codemirror_mode": {
    "name": "ipython",
    "version": 3
   },
   "file_extension": ".py",
   "mimetype": "text/x-python",
   "name": "python",
   "nbconvert_exporter": "python",
   "pygments_lexer": "ipython3",
   "version": "3.7.3"
  }
 },
 "nbformat": 4,
 "nbformat_minor": 2
}

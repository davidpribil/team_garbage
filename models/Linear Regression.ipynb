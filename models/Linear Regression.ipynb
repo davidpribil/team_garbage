{
 "cells": [
  {
   "cell_type": "markdown",
   "metadata": {},
   "source": [
    "## Simple linear regression on the dataset"
   ]
  },
  {
   "cell_type": "code",
   "execution_count": 2,
   "metadata": {},
   "outputs": [],
   "source": [
    "import matplotlib.pyplot as plt\n",
    "import numpy as np\n",
    "from sklearn import datasets, linear_model\n",
    "from sklearn.metrics import mean_squared_error, r2_score\n",
    "import pandas as pd"
   ]
  },
  {
   "cell_type": "markdown",
   "metadata": {},
   "source": [
    "#### Import the dataset"
   ]
  },
  {
   "cell_type": "code",
   "execution_count": 23,
   "metadata": {},
   "outputs": [
    {
     "data": {
      "text/html": [
       "<div>\n",
       "<style scoped>\n",
       "    .dataframe tbody tr th:only-of-type {\n",
       "        vertical-align: middle;\n",
       "    }\n",
       "\n",
       "    .dataframe tbody tr th {\n",
       "        vertical-align: top;\n",
       "    }\n",
       "\n",
       "    .dataframe thead th {\n",
       "        text-align: right;\n",
       "    }\n",
       "</style>\n",
       "<table border=\"1\" class=\"dataframe\">\n",
       "  <thead>\n",
       "    <tr style=\"text-align: right;\">\n",
       "      <th></th>\n",
       "      <th>Unnamed: 0</th>\n",
       "      <th>Unnamed: 0.1</th>\n",
       "      <th>collection</th>\n",
       "      <th>osm_id</th>\n",
       "      <th>cci_id</th>\n",
       "      <th>date</th>\n",
       "      <th>cci</th>\n",
       "      <th>weekday</th>\n",
       "      <th>day_type</th>\n",
       "      <th>days</th>\n",
       "      <th>...</th>\n",
       "      <th>geometry</th>\n",
       "      <th>latitudes</th>\n",
       "      <th>longitudes</th>\n",
       "      <th>group_ids</th>\n",
       "      <th>event</th>\n",
       "      <th>max_temp</th>\n",
       "      <th>mean_temp</th>\n",
       "      <th>mean_wind_speed</th>\n",
       "      <th>min_temp</th>\n",
       "      <th>total_prep</th>\n",
       "    </tr>\n",
       "  </thead>\n",
       "  <tbody>\n",
       "    <tr>\n",
       "      <th>0</th>\n",
       "      <td>0</td>\n",
       "      <td>0</td>\n",
       "      <td>places</td>\n",
       "      <td>1146125838</td>\n",
       "      <td>NaN</td>\n",
       "      <td>2019-04-12 9:44:29</td>\n",
       "      <td>4.510442</td>\n",
       "      <td>4</td>\n",
       "      <td>0</td>\n",
       "      <td>12</td>\n",
       "      <td>...</td>\n",
       "      <td>0</td>\n",
       "      <td>47.539013</td>\n",
       "      <td>7.596727</td>\n",
       "      <td>51</td>\n",
       "      <td>1</td>\n",
       "      <td>12.4</td>\n",
       "      <td>6.387500</td>\n",
       "      <td>2.025000</td>\n",
       "      <td>1.6</td>\n",
       "      <td>0.0</td>\n",
       "    </tr>\n",
       "    <tr>\n",
       "      <th>1</th>\n",
       "      <td>1</td>\n",
       "      <td>1</td>\n",
       "      <td>places</td>\n",
       "      <td>1146125838</td>\n",
       "      <td>NaN</td>\n",
       "      <td>2019-04-24 9:06:34</td>\n",
       "      <td>4.511460</td>\n",
       "      <td>2</td>\n",
       "      <td>0</td>\n",
       "      <td>24</td>\n",
       "      <td>...</td>\n",
       "      <td>0</td>\n",
       "      <td>47.539013</td>\n",
       "      <td>7.596727</td>\n",
       "      <td>51</td>\n",
       "      <td>0</td>\n",
       "      <td>25.1</td>\n",
       "      <td>13.450000</td>\n",
       "      <td>1.987500</td>\n",
       "      <td>7.9</td>\n",
       "      <td>6.2</td>\n",
       "    </tr>\n",
       "    <tr>\n",
       "      <th>2</th>\n",
       "      <td>2</td>\n",
       "      <td>2</td>\n",
       "      <td>places</td>\n",
       "      <td>1146125838</td>\n",
       "      <td>NaN</td>\n",
       "      <td>2019-04-26 13:35:55</td>\n",
       "      <td>3.571802</td>\n",
       "      <td>4</td>\n",
       "      <td>0</td>\n",
       "      <td>26</td>\n",
       "      <td>...</td>\n",
       "      <td>0</td>\n",
       "      <td>47.539013</td>\n",
       "      <td>7.596727</td>\n",
       "      <td>51</td>\n",
       "      <td>0</td>\n",
       "      <td>13.0</td>\n",
       "      <td>9.016667</td>\n",
       "      <td>1.904167</td>\n",
       "      <td>6.7</td>\n",
       "      <td>8.7</td>\n",
       "    </tr>\n",
       "    <tr>\n",
       "      <th>3</th>\n",
       "      <td>3</td>\n",
       "      <td>3</td>\n",
       "      <td>places</td>\n",
       "      <td>1146125838</td>\n",
       "      <td>NaN</td>\n",
       "      <td>2019-05-14 6:55:01</td>\n",
       "      <td>4.592128</td>\n",
       "      <td>1</td>\n",
       "      <td>0</td>\n",
       "      <td>14</td>\n",
       "      <td>...</td>\n",
       "      <td>0</td>\n",
       "      <td>47.539013</td>\n",
       "      <td>7.596727</td>\n",
       "      <td>51</td>\n",
       "      <td>1</td>\n",
       "      <td>16.6</td>\n",
       "      <td>10.870833</td>\n",
       "      <td>3.041667</td>\n",
       "      <td>3.3</td>\n",
       "      <td>0.0</td>\n",
       "    </tr>\n",
       "    <tr>\n",
       "      <th>4</th>\n",
       "      <td>4</td>\n",
       "      <td>4</td>\n",
       "      <td>places</td>\n",
       "      <td>1146125838</td>\n",
       "      <td>NaN</td>\n",
       "      <td>2019-06-03 14:41:12</td>\n",
       "      <td>4.399377</td>\n",
       "      <td>0</td>\n",
       "      <td>0</td>\n",
       "      <td>3</td>\n",
       "      <td>...</td>\n",
       "      <td>0</td>\n",
       "      <td>47.539013</td>\n",
       "      <td>7.596727</td>\n",
       "      <td>51</td>\n",
       "      <td>1</td>\n",
       "      <td>27.9</td>\n",
       "      <td>22.179167</td>\n",
       "      <td>1.666667</td>\n",
       "      <td>16.6</td>\n",
       "      <td>0.1</td>\n",
       "    </tr>\n",
       "  </tbody>\n",
       "</table>\n",
       "<p>5 rows × 22 columns</p>\n",
       "</div>"
      ],
      "text/plain": [
       "   Unnamed: 0  Unnamed: 0.1 collection      osm_id cci_id  \\\n",
       "0           0             0     places  1146125838    NaN   \n",
       "1           1             1     places  1146125838    NaN   \n",
       "2           2             2     places  1146125838    NaN   \n",
       "3           3             3     places  1146125838    NaN   \n",
       "4           4             4     places  1146125838    NaN   \n",
       "\n",
       "                  date       cci  weekday  day_type  days  ...  geometry  \\\n",
       "0   2019-04-12 9:44:29  4.510442        4         0    12  ...         0   \n",
       "1   2019-04-24 9:06:34  4.511460        2         0    24  ...         0   \n",
       "2  2019-04-26 13:35:55  3.571802        4         0    26  ...         0   \n",
       "3   2019-05-14 6:55:01  4.592128        1         0    14  ...         0   \n",
       "4  2019-06-03 14:41:12  4.399377        0         0     3  ...         0   \n",
       "\n",
       "   latitudes  longitudes  group_ids  event  max_temp  mean_temp  \\\n",
       "0  47.539013    7.596727         51      1      12.4   6.387500   \n",
       "1  47.539013    7.596727         51      0      25.1  13.450000   \n",
       "2  47.539013    7.596727         51      0      13.0   9.016667   \n",
       "3  47.539013    7.596727         51      1      16.6  10.870833   \n",
       "4  47.539013    7.596727         51      1      27.9  22.179167   \n",
       "\n",
       "   mean_wind_speed  min_temp  total_prep  \n",
       "0         2.025000       1.6         0.0  \n",
       "1         1.987500       7.9         6.2  \n",
       "2         1.904167       6.7         8.7  \n",
       "3         3.041667       3.3         0.0  \n",
       "4         1.666667      16.6         0.1  \n",
       "\n",
       "[5 rows x 22 columns]"
      ]
     },
     "execution_count": 23,
     "metadata": {},
     "output_type": "execute_result"
    }
   ],
   "source": [
    "data = pd.read_csv('clean_datav4_fixed_cci.csv')\n",
    "data.head()"
   ]
  },
  {
   "cell_type": "markdown",
   "metadata": {},
   "source": [
    "### Using required features"
   ]
  },
  {
   "cell_type": "code",
   "execution_count": 30,
   "metadata": {},
   "outputs": [
    {
     "data": {
      "text/plain": [
       "0    4.510442\n",
       "1    4.511460\n",
       "2    3.571802\n",
       "3    4.592128\n",
       "4    4.399377\n",
       "Name: cci, dtype: float64"
      ]
     },
     "execution_count": 30,
     "metadata": {},
     "output_type": "execute_result"
    }
   ],
   "source": [
    "DROP_ROWS = 0\n",
    "# my_features = ['diff_nearest_clean']\n",
    "\n",
    "my_features = ['day_type','latitudes','latitudes','mean_temp','total_prep']\n",
    "my_features_df = data[my_features].copy(deep=True)\n",
    "## Drop the last three in my_features_df\n",
    "# my_features_df = my_features_df.iloc[:-DROP_ROWS]\n",
    "my_features_df.drop(my_features_df.tail(DROP_ROWS).index,inplace=True) # drop last DROP_ROWS \n",
    "# my_features_df.tail()\n",
    "\n",
    "test_feature = 'cci'\n",
    "test_feature_df = data[test_feature].copy(deep=True)\n",
    "test_feature_df.drop(my_features_df.head(DROP_ROWS).index,inplace=True) # drop last DROP_ROWS \n",
    "# test_feature_df.drop(test_feature_df.index[0:DROP_ROWS],inplace=True)\n",
    "test_feature_df = test_feature_df.rename(index = lambda x: x-DROP_ROWS) \n",
    "test_feature_df.head()"
   ]
  },
  {
   "cell_type": "code",
   "execution_count": 31,
   "metadata": {},
   "outputs": [],
   "source": [
    "combined_df = pd.concat([my_features_df, test_feature_df], axis=1, ignore_index=False)\n",
    "combined_df = combined_df.fillna(-1).copy()\n",
    "# combined_df.tail()"
   ]
  },
  {
   "cell_type": "code",
   "execution_count": 32,
   "metadata": {},
   "outputs": [],
   "source": [
    "from sklearn.model_selection import train_test_split\n",
    "from sklearn import preprocessing\n",
    "\n",
    "train_data, test_data = train_test_split(combined_df, test_size=0.2)"
   ]
  },
  {
   "cell_type": "code",
   "execution_count": 33,
   "metadata": {},
   "outputs": [],
   "source": [
    "train_X = train_data[my_features]\n",
    "train_X = preprocessing.scale(train_X)\n",
    "\n",
    "train_Y = train_data[test_feature]\n",
    "\n",
    "test_X = test_data[my_features]\n",
    "test_X = preprocessing.scale(test_X)\n",
    "\n",
    "test_Y = test_data[test_feature]"
   ]
  },
  {
   "cell_type": "code",
   "execution_count": 34,
   "metadata": {},
   "outputs": [],
   "source": [
    "# Create linear regression object\n",
    "regr = linear_model.LinearRegression()\n",
    "\n",
    "# Train the model using the training sets\n",
    "regr.fit(train_X, train_Y)\n",
    "\n",
    "# Make predictions using the testing set\n",
    "test_pred = regr.predict(test_X)"
   ]
  },
  {
   "cell_type": "code",
   "execution_count": 35,
   "metadata": {},
   "outputs": [
    {
     "name": "stdout",
     "output_type": "stream",
     "text": [
      "Coefficients: \n",
      " [ 0.03524138  0.00461116  0.00461116  0.00461116  0.00461116 -0.10761924\n",
      " -0.0298989 ]\n",
      "Mean squared error: 0.50\n",
      "Variance score: 0.02\n"
     ]
    }
   ],
   "source": [
    "\n",
    "# The coefficients\n",
    "print('Coefficients: \\n', regr.coef_)\n",
    "# The mean squared error\n",
    "print(\"Mean squared error: %.2f\"\n",
    "      % mean_squared_error(test_Y, test_pred))\n",
    "# Explained variance score: 1 is perfect prediction\n",
    "print('Variance score: %.2f' % r2_score(test_Y, test_pred))\n",
    "\n",
    "# Plot outputs\n",
    "# plt.scatter(test_data[['day_type','months']], test_data['cci'],  color='black')\n",
    "# plt.plot(test_data[['day_type','months']], test_pred, color='blue', linewidth=3)\n",
    "\n",
    "# plt.xticks(())\n",
    "# plt.yticks(())\n",
    "\n",
    "# plt.show()"
   ]
  },
  {
   "cell_type": "code",
   "execution_count": null,
   "metadata": {},
   "outputs": [],
   "source": []
  }
 ],
 "metadata": {
  "kernelspec": {
   "display_name": "Python 3",
   "language": "python",
   "name": "python3"
  },
  "language_info": {
   "codemirror_mode": {
    "name": "ipython",
    "version": 3
   },
   "file_extension": ".py",
   "mimetype": "text/x-python",
   "name": "python",
   "nbconvert_exporter": "python",
   "pygments_lexer": "ipython3",
   "version": "3.7.3"
  }
 },
 "nbformat": 4,
 "nbformat_minor": 2
}
